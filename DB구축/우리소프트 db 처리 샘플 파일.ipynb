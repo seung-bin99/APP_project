{
 "cells": [
  {
   "cell_type": "code",
   "execution_count": 1,
   "id": "cb236252",
   "metadata": {},
   "outputs": [
    {
     "name": "stdout",
     "output_type": "stream",
     "text": [
      "SQLite 데이터베이스 및 테이블이 생성되었습니다.\n"
     ]
    }
   ],
   "source": [
    "import sqlite3\n",
    "\n",
    "# SQLite 데이터베이스 생성\n",
    "conn = sqlite3.connect('C:/Users/user/Desktop/SQLite/Database.db')\n",
    "\n",
    "# 커서 생성\n",
    "cursor = conn.cursor()\n",
    "\n",
    "# UserInfo 테이블 생성\n",
    "cursor.execute('''\n",
    "    CREATE TABLE IF NOT EXISTS UserInfo (\n",
    "        UserID TEXT PRIMARY KEY,\n",
    "        Progress INTEGER,\n",
    "        Score INTEGER,\n",
    "        TouchCount INTEGER,\n",
    "        DifficultyLevel INTEGER,\n",
    "        DecisionTime REAL\n",
    "    );\n",
    "''')\n",
    "\n",
    "# 커밋 및 연결 종료\n",
    "conn.commit()\n",
    "conn.close()\n",
    "\n",
    "print(\"SQLite 데이터베이스 및 테이블이 생성되었습니다.\")"
   ]
  },
  {
   "cell_type": "code",
   "execution_count": 2,
   "id": "2ecd6cc1",
   "metadata": {},
   "outputs": [
    {
     "name": "stdout",
     "output_type": "stream",
     "text": [
      "     UserID  Progress  Score  TouchCount  DifficultyLevel  DecisionTime\n",
      "0      sfkd        20     20         600                6           0.5\n",
      "1      hihi        15     28          83                2           3.0\n",
      "2   kimdong        63    250         765                8           1.0\n",
      "3       kae        43    110         723                4           0.5\n",
      "4     hello        42     74         134                2           6.5\n",
      "5       abc        30     60         298                4           5.0\n",
      "6       gnd        50    100         653                6           4.5\n",
      "7       kar        60    140         726                7           0.5\n",
      "8       ral        70    200         812                7           1.5\n",
      "9       hoi        20     48         202                2           9.0\n",
      "10      gon         5      8          35                1          12.0\n",
      "11      car        24     35         152                2           1.0\n",
      "12      ref        40     67         254                2           7.0\n",
      "13     kkkk        20     48         202                2           9.0\n",
      "14     sjjj         5      8          35                1          12.0\n",
      "15     efhy        60    160         576                5           0.5\n",
      "16     hhhh        15     35          95                2           5.5\n",
      "17      uyk        50     80          85                2           2.5\n",
      "18      ngr        37     69         102                2          10.5\n",
      "19      cnd        50     80          85                2           2.5\n",
      "20      sfg        37     69         102                2          10.5\n",
      "21     uytj        42     74         134                2           6.5\n",
      "22     hfgh        45     88         196                2           5.0\n",
      "23     poll        38     80         206                2           6.0\n",
      "24     mjrg        15     28          83                2           3.0\n",
      "25     pihh        63    777         765                8           1.0\n",
      "26   qrtjyj        43    110         723                4           0.5\n",
      "27    hrtru        42     74         134                2           6.5\n",
      "28     gsfg        30     60         298                4           5.0\n",
      "29     sfsd        50    100         653                6           4.5\n",
      "30      dsg        60    140         726                7           0.5\n",
      "31     rgsa        70    200         812                7           1.5\n",
      "32     sgsg        10     10          56                1          10.0\n",
      "33     dhhd        33     65         262                2           3.5\n",
      "34     afgf        46     90         354                4           3.0\n",
      "35     rang        32     55         195                3           2.0\n",
      "36     sdfs        24     35         152                2           1.0\n",
      "37     hoho        40     67         254                2           7.0\n",
      "38     zizi        35     31         145                3           8.0\n",
      "39      wfd        20     48         202                2           9.0\n",
      "40     shng         5      8          35                1          12.0\n",
      "41     sgrg        60    160         576                5           0.5\n",
      "42     sfgr        15     35          95                2           5.5\n",
      "43   ggdhhk        50     80          85                2           2.5\n",
      "44     gkkh        37     69         102                2          10.5\n",
      "45    hkfjf        42     74         134                2           6.5\n",
      "46     glhh        45     88         196                2           5.0\n",
      "47      rkc        38     80         206                2           6.0\n",
      "48   tjtkii        15     28          83                2           3.0\n",
      "49      gkg        63    250         765                8           1.0\n",
      "50     ytkt        43    110         723                4           0.5\n",
      "51     fgda        48    135         156                3           4.0\n",
      "52      bin        46    160         300                6           0.5\n"
     ]
    }
   ],
   "source": [
    "#데이터 추출 후 데이터프레임으로 변경\n",
    "\n",
    "import sqlite3\n",
    "import pandas as pd\n",
    "\n",
    "# SQLite 데이터베이스 연결\n",
    "conn = sqlite3.connect(\"C:/Users/user/Desktop/SQLite/Database.db\")\n",
    "\n",
    "# UserInfo 테이블에서 모든 데이터 가져오기\n",
    "cursor = conn.cursor()\n",
    "cursor.execute(\"SELECT * FROM UserInfo;\")\n",
    "rows = cursor.fetchall()\n",
    "\n",
    "# 데이터프레임 생성\n",
    "columns = [col[0] for col in cursor.description]\n",
    "df = pd.DataFrame(rows, columns=columns)\n",
    "\n",
    "# 데이터프레임 출력\n",
    "print(df)\n",
    "\n",
    "# 연결 종료\n",
    "conn.close()"
   ]
  },
  {
   "cell_type": "code",
   "execution_count": 3,
   "id": "4af1f22f",
   "metadata": {},
   "outputs": [
    {
     "name": "stdout",
     "output_type": "stream",
     "text": [
      "조회 결과:\n",
      "('gkg', 63, 250, 765, 8, 1)\n"
     ]
    }
   ],
   "source": [
    "# 조회\n",
    "import sqlite3\n",
    "\n",
    "# SQLite 데이터베이스 연결\n",
    "conn = sqlite3.connect(\"C:/Users/user/Desktop/SQLite/Database.db\")\n",
    "cursor = conn.cursor()\n",
    "\n",
    "def lookup_data(player_id):\n",
    "    # 쿼리 실행\n",
    "    cursor.execute(f\"SELECT * FROM UserInfo WHERE UserID='{player_id}';\")\n",
    "    result = cursor.fetchone()\n",
    "    if result:\n",
    "        print(\"조회 결과:\")\n",
    "        print(result)\n",
    "    else:\n",
    "        print(f\"Player ID {player_id}에 해당하는 데이터가 없습니다.\")\n",
    "lookup_data('gkg')\n",
    "# 연결 종료\n",
    "conn.close()\n",
    "\n"
   ]
  },
  {
   "cell_type": "code",
   "execution_count": 4,
   "id": "c97d0898",
   "metadata": {},
   "outputs": [
    {
     "name": "stdout",
     "output_type": "stream",
     "text": [
      "데이터가 성공적으로 삽입되었습니다.\n"
     ]
    }
   ],
   "source": [
    "# 삽입\n",
    "import sqlite3\n",
    "\n",
    "# SQLite 데이터베이스 연결\n",
    "conn = sqlite3.connect(\"C:/Users/user/Desktop/SQLite/Database.db\")\n",
    "cursor = conn.cursor()\n",
    "\n",
    "def insert_data(player_id, 진행률, 점수, 터치횟수, 난이도, 결정시간):\n",
    "    # 쿼리 실행\n",
    "    cursor.execute(f\"INSERT INTO UserInfo (UserID, Progress, Score, TouchCount, DifficultyLevel, DecisionTime) VALUES ('{player_id}', {진행률}, {점수}, {터치횟수}, {난이도}, {결정시간});\")\n",
    "    conn.commit()\n",
    "    print(\"데이터가 성공적으로 삽입되었습니다.\")\n",
    "insert_data('kbin', 50, 160, 350, 6, 0.5)\n",
    "# 연결 종료\n",
    "conn.close()\n"
   ]
  },
  {
   "cell_type": "code",
   "execution_count": 5,
   "id": "f2cb5144",
   "metadata": {},
   "outputs": [
    {
     "name": "stdout",
     "output_type": "stream",
     "text": [
      "데이터가 성공적으로 수정되었습니다.\n"
     ]
    }
   ],
   "source": [
    "# 수정\n",
    "import sqlite3\n",
    "\n",
    "# SQLite 데이터베이스 연결\n",
    "conn = sqlite3.connect(\"C:/Users/user/Desktop/SQLite/Database.db\")\n",
    "cursor = conn.cursor()\n",
    "\n",
    "def update_data(player_id, new_score):\n",
    "    # 쿼리 실행\n",
    "    cursor.execute(f\"UPDATE UserInfo SET Score={new_score} WHERE UserID='{player_id}';\")\n",
    "    conn.commit()\n",
    "    print(\"데이터가 성공적으로 수정되었습니다.\")\n",
    "\n",
    "update_data('pihh', 756)\n",
    "# 연결 종료\n",
    "conn.close()\n",
    "\n",
    "\n"
   ]
  },
  {
   "cell_type": "code",
   "execution_count": 37,
   "id": "07280940",
   "metadata": {},
   "outputs": [
    {
     "name": "stdout",
     "output_type": "stream",
     "text": [
      "데이터가 성공적으로 삭제되었습니다.\n"
     ]
    }
   ],
   "source": [
    "\n",
    "# 삭제\n",
    "import sqlite3\n",
    "\n",
    "# SQLite 데이터베이스 연결\n",
    "conn = sqlite3.connect(\"C:/Users/user/Desktop/SQLite/Database.db\")\n",
    "cursor = conn.cursor()\n",
    "\n",
    "def delete_data(player_id):\n",
    "    # 쿼리 실행\n",
    "    cursor.execute(f\"DELETE FROM UserInfo WHERE UserID='{player_id}';\")\n",
    "    conn.commit()\n",
    "    print(\"데이터가 성공적으로 삭제되었습니다.\")\n",
    "\n",
    "delete_data('sf')\n",
    "# 연결 종료\n",
    "conn.close()"
   ]
  },
  {
   "cell_type": "code",
   "execution_count": null,
   "id": "3d420648",
   "metadata": {},
   "outputs": [],
   "source": []
  }
 ],
 "metadata": {
  "kernelspec": {
   "display_name": "Python 3",
   "language": "python",
   "name": "python3"
  },
  "language_info": {
   "codemirror_mode": {
    "name": "ipython",
    "version": 3
   },
   "file_extension": ".py",
   "mimetype": "text/x-python",
   "name": "python",
   "nbconvert_exporter": "python",
   "pygments_lexer": "ipython3",
   "version": "3.8.8"
  }
 },
 "nbformat": 4,
 "nbformat_minor": 5
}
